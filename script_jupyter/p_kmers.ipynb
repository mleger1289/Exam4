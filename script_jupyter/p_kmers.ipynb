{
 "cells": [
  {
   "cell_type": "code",
   "execution_count": 2,
   "metadata": {
    "tags": []
   },
   "outputs": [],
   "source": [
    "def p_kmers(input, k):  \n",
    "  ### Checks for possible kmers within a string input\n",
    "    \n",
    "    # Args:\n",
    "        # \"input\": DNA string to be reviewed, number of kmers (k): substring length \n",
    "                \n",
    "    # Returns:\n",
    "        # possible_kmers: Number of Observed kmers in the given string for a given substring length\n",
    "    \n",
    "    # Creating input validation criteria that will error and stop the script if invalid entries are entered.\n",
    "    # Creating input validation criteria that will error and stop the script if invalid entries are entered.\n",
    "    #possible_kmers = 0\n",
    "    e = 0\n",
    "    for i in range(len(input)):\n",
    "        if input[i] !='A'and input[i] !='G' and input[i] !='C' and input[i] !='T':\n",
    "            e = 1\n",
    "            break\n",
    "    if k%1 != 0 or k<=0 or k>len(input):\n",
    "        print('K value is Invalid. An integer between one and the length of the input is required.')\n",
    "\n",
    "    elif e ==1 or len(input)==0:\n",
    "        print('Input is Invalid. Must contain only characters of A, C, G or T')\n",
    "\n",
    "    else:              \n",
    "        kmer_1 = len(input)- k + 1\n",
    "        kmer_2 = 4**k\n",
    "    \n",
    "        possible_kmers =min(kmer_1,kmer_2)\n",
    "\n",
    "        return possible_kmers\n",
    "       "
   ]
  },
  {
   "cell_type": "code",
   "execution_count": null,
   "metadata": {},
   "outputs": [],
   "source": []
  },
  {
   "cell_type": "code",
   "execution_count": 3,
   "metadata": {},
   "outputs": [
    {
     "data": {
      "text/plain": [
       "4"
      ]
     },
     "execution_count": 3,
     "metadata": {},
     "output_type": "execute_result"
    }
   ],
   "source": [
    "p_kmers(\"ATTTGGATT\",1)"
   ]
  }
 ],
 "metadata": {
  "kernelspec": {
   "display_name": "Python 3",
   "language": "python",
   "name": "python3"
  },
  "language_info": {
   "codemirror_mode": {
    "name": "ipython",
    "version": 3
   },
   "file_extension": ".py",
   "mimetype": "text/x-python",
   "name": "python",
   "nbconvert_exporter": "python",
   "pygments_lexer": "ipython3",
   "version": "3.6.8"
  }
 },
 "nbformat": 4,
 "nbformat_minor": 4
}
