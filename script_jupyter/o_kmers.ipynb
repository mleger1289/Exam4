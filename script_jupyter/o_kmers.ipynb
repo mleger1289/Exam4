{
 "cells": [
  {
   "cell_type": "code",
   "execution_count": 34,
   "metadata": {},
   "outputs": [
    {
     "name": "stdout",
     "output_type": "stream",
     "text": [
      "['ATTTGGATT\\n', 'ACTGCAGCGCGATGATGAGAGAGATTTCAGGACACACATTGCCAAATTGAGGCAT\\n', 'ATATATATATATATATA;']\n"
     ]
    }
   ],
   "source": [
    "# Reads text file and shows users the data inside for processing puposess\n",
    "with open('sampledna.txt') as f:\n",
    "    lines = f.readlines()\n",
    "# print lines to be tested for user to manual add to functions\n",
    "    print(lines)\n",
    "    \n",
    "def o_kmers(input, k):\n",
    "    ### Checks for observed kmers within a string input\n",
    "    \n",
    "    # Args:\n",
    "        # \"input\": DNA string to be reviewed, number of kmers (k): substring length \n",
    "                \n",
    "    # Returns:\n",
    "        # observed_kmers: Number of Observed kmers in the given string for a given substring length\n",
    "    \n",
    "    # Creating input validation criteria that will error and stop the script if invalid entries are entered.\n",
    "    error = 0\n",
    "    for i in range(len(input)):\n",
    "        if input[i] !='A'and input[i] !='G' and input[i] !='C' and input[i] !='T':\n",
    "            error = 1\n",
    "            break\n",
    "        if k%1 != 0 or k<=0:\n",
    "            print('K value is Invalid. An Integer greater than zero is needed')\n",
    "        elif error ==1 or len(input)==0:\n",
    "            print('Input is Invalid. Must contain only characters of A, C, G or T')\n",
    "        else:\n",
    "            \n",
    "            # Create a blank dictionary for counting kmer's       \n",
    "            observed_kmers = {}\n",
    "\n",
    "            for i in range(0, len(input) - k+1):\n",
    "\n",
    "\n",
    "                kmer = input[i:i + k]\n",
    "\n",
    "                if kmer in observed_kmers:\n",
    "                     observed_kmers[kmer] +=1\n",
    "                else:\n",
    "                     observed_kmers[kmer] = 1\n",
    "                \n",
    "    return len(observed_kmers)\n",
    "\n",
    "\n",
    "\n"
   ]
  },
  {
   "cell_type": "code",
   "execution_count": 35,
   "metadata": {},
   "outputs": [
    {
     "data": {
      "text/plain": [
       "6"
      ]
     },
     "execution_count": 35,
     "metadata": {},
     "output_type": "execute_result"
    }
   ],
   "source": [
    "o_kmers(\"ATTTGGATT\",4)"
   ]
  }
 ],
 "metadata": {
  "kernelspec": {
   "display_name": "Python 3",
   "language": "python",
   "name": "python3"
  },
  "language_info": {
   "codemirror_mode": {
    "name": "ipython",
    "version": 3
   },
   "file_extension": ".py",
   "mimetype": "text/x-python",
   "name": "python",
   "nbconvert_exporter": "python",
   "pygments_lexer": "ipython3",
   "version": "3.6.8"
  }
 },
 "nbformat": 4,
 "nbformat_minor": 4
}
