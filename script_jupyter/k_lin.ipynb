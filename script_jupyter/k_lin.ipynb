{
 "cells": [
  {
   "cell_type": "code",
   "execution_count": 3,
   "metadata": {},
   "outputs": [
    {
     "name": "stdout",
     "output_type": "stream",
     "text": [
      "['ATTTGGATT\\n', 'ACTGCAGCGCGATGATGAGAGAGATTTCAGGACACACATTGCCAAATTGAGGCAT\\n', 'ATATATATATATATATA;']\n"
     ]
    }
   ],
   "source": [
    "# Reads text file and shows users the data inside for processing puposess\n",
    "with open('sampledna.txt') as f:\n",
    "    lines = f.readlines()\n",
    "# print lines to be tested\n",
    "    print(lines)\n",
    "\n",
    "\n",
    "def k_lin(input,k):\n",
    "     ### Finds the linguistic complxity of a DNA string \n",
    "    \n",
    "    # Args:\n",
    "        # \"input\": DNA string to be reviewed, number of kmers (k): substring length \n",
    "                \n",
    "    # Returns:\n",
    "        # k_lin: sum of observed / sum of possible \n",
    "    \n",
    "    \n",
    "    # Creating input validation criteria that will error and stop the script if invalid entries are entered.\n",
    "    error = 0\n",
    "    for i in range(len(input)):\n",
    "        if input[i] !='A'and input[i] !='G' and input[i] !='C' and input[i] !='T':\n",
    "            error = 1\n",
    "            break\n",
    "        if k%1 != 0 or k<=0:\n",
    "            print('K value is Invalid. An Integer greater than zero is needed')\n",
    "        elif error ==1 or len(input)==0:\n",
    "            print('Input is Invalid. Must contain only characters of A, C, G or T')\n",
    "        else:\n",
    "            \n",
    "            # Initiate list for each coloumn \n",
    "            k_num = []\n",
    "            p_kmers = []\n",
    "            o_kmers = []\n",
    "            \n",
    "            for m in range(0 , k):\n",
    "                k_num.append(m+1)\n",
    "                kmer_1 = len(input)- m \n",
    "                kmer_2 = 4**(m+1)\n",
    "                possible_kmers =min(kmer_1,kmer_2)\n",
    "                p_kmers.append(possible_kmers)          \n",
    "                kFreq = {}\n",
    "                for j in range(0,len(input)-m):\n",
    "                    kFreq[input[j:j+m+1]]=[]\n",
    "                olist=len(kFreq)\n",
    "                o_kmers.append(len(kFreq))\n",
    "        \n",
    "        k_lin = sum(o_kmers)/sum(p_kmers)\n",
    "        \n",
    "    return (k_lin)\n",
    "\n",
    "\n"
   ]
  },
  {
   "cell_type": "code",
   "execution_count": null,
   "metadata": {},
   "outputs": [],
   "source": []
  },
  {
   "cell_type": "code",
   "execution_count": 4,
   "metadata": {},
   "outputs": [
    {
     "data": {
      "text/plain": [
       "0.875"
      ]
     },
     "execution_count": 4,
     "metadata": {},
     "output_type": "execute_result"
    }
   ],
   "source": [
    "k_lin(\"ATTTGGATT\",9)"
   ]
  }
 ],
 "metadata": {
  "kernelspec": {
   "display_name": "Python 3",
   "language": "python",
   "name": "python3"
  },
  "language_info": {
   "codemirror_mode": {
    "name": "ipython",
    "version": 3
   },
   "file_extension": ".py",
   "mimetype": "text/x-python",
   "name": "python",
   "nbconvert_exporter": "python",
   "pygments_lexer": "ipython3",
   "version": "3.6.8"
  }
 },
 "nbformat": 4,
 "nbformat_minor": 4
}
